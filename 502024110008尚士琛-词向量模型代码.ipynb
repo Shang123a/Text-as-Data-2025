{
 "cells": [
  {
   "cell_type": "markdown",
   "id": "292c7721",
   "metadata": {},
   "source": [
    "这是一个词向量模型代码展示\n",
    "*导入数据\n",
    "*构建模型\n",
    "*训练模型\n",
    "*可视化\n",
    "*保存模型\n",
    "*加载模型\n",
    "*计算相似度"
   ]
  },
  {
   "cell_type": "markdown",
   "id": "579be8a6",
   "metadata": {},
   "source": [
    "# 数据准备"
   ]
  },
  {
   "cell_type": "code",
   "execution_count": 1,
   "id": "be64f363",
   "metadata": {},
   "outputs": [],
   "source": [
    "## 导入数据\n",
    "import pandas as  pd"
   ]
  },
  {
   "cell_type": "code",
   "execution_count": 2,
   "id": "cedd8869",
   "metadata": {
    "scrolled": true
   },
   "outputs": [
    {
     "data": {
      "text/html": [
       "<div>\n",
       "<style scoped>\n",
       "    .dataframe tbody tr th:only-of-type {\n",
       "        vertical-align: middle;\n",
       "    }\n",
       "\n",
       "    .dataframe tbody tr th {\n",
       "        vertical-align: top;\n",
       "    }\n",
       "\n",
       "    .dataframe thead th {\n",
       "        text-align: right;\n",
       "    }\n",
       "</style>\n",
       "<table border=\"1\" class=\"dataframe\">\n",
       "  <thead>\n",
       "    <tr style=\"text-align: right;\">\n",
       "      <th></th>\n",
       "      <th>index</th>\n",
       "      <th>商品名称</th>\n",
       "      <th>商品类别</th>\n",
       "      <th>出版年</th>\n",
       "      <th>广告文本</th>\n",
       "      <th>广告标题</th>\n",
       "    </tr>\n",
       "  </thead>\n",
       "  <tbody>\n",
       "    <tr>\n",
       "      <th>0</th>\n",
       "      <td>1596</td>\n",
       "      <td>五华牌香烟[May Blossom]</td>\n",
       "      <td>烟草制品</td>\n",
       "      <td>1932</td>\n",
       "      <td>兰勃脱白脱勒公司 五华牌香烟 佛及尼埃香烟  二十枝装每包售国币大洋二角 五十枝装每罐售国币...</td>\n",
       "      <td>五华牌香烟,\"兰勃脱白脱勒公司 五华牌香烟 佛及尼埃香烟\"</td>\n",
       "    </tr>\n",
       "    <tr>\n",
       "      <th>1</th>\n",
       "      <td>5627</td>\n",
       "      <td>韦廉士红色清导丸[Dr.Willams' Pink Pills For Pale People]</td>\n",
       "      <td>药品</td>\n",
       "      <td>1918</td>\n",
       "      <td>讲求卫生为人生本性天理固然也 人生首贵逐日大便通畅有序为天然所当如此也如若大便不利大肠阻塞则...</td>\n",
       "      <td>韦廉士红色清导丸:'讲求卫生为人生本性天理固然也'</td>\n",
       "    </tr>\n",
       "    <tr>\n",
       "      <th>2</th>\n",
       "      <td>13532</td>\n",
       "      <td>大炮台香烟[Three Castles Cigarettes]</td>\n",
       "      <td>烟草制品</td>\n",
       "      <td>1935</td>\n",
       "      <td>香味馥郁,不让名花 另有三炮台出售</td>\n",
       "      <td>大炮台香烟,\"香味馥郁 不让名花\"</td>\n",
       "    </tr>\n",
       "    <tr>\n",
       "      <th>3</th>\n",
       "      <td>1133</td>\n",
       "      <td>婴孩自己药片[Baby's Own]</td>\n",
       "      <td>药品</td>\n",
       "      <td>1930</td>\n",
       "      <td>差肩儿女 秀慧康强 闽有佳音讃羡婴孩自己药片 每年此际小儿患肠胃病者甚多而尤以南方各地天气翳...</td>\n",
       "      <td>婴孩自己药片,\"差肩儿女 秀慧康强 闽有佳音赞美婴孩自己药片\"</td>\n",
       "    </tr>\n",
       "    <tr>\n",
       "      <th>4</th>\n",
       "      <td>3146</td>\n",
       "      <td>亚士北罗药片[Aspro]</td>\n",
       "      <td>药品</td>\n",
       "      <td>1933</td>\n",
       "      <td>何以亚士北罗是妇女们的腻友？各国妇女力证亚士北罗药片是她们最需要的药物！为什么？她们的经验知...</td>\n",
       "      <td>亚士北罗药片,\"妇女之腻友\"</td>\n",
       "    </tr>\n",
       "    <tr>\n",
       "      <th>...</th>\n",
       "      <td>...</td>\n",
       "      <td>...</td>\n",
       "      <td>...</td>\n",
       "      <td>...</td>\n",
       "      <td>...</td>\n",
       "      <td>...</td>\n",
       "    </tr>\n",
       "    <tr>\n",
       "      <th>495</th>\n",
       "      <td>14176</td>\n",
       "      <td>安住蚊烟香</td>\n",
       "      <td>化肥及杀虫剂</td>\n",
       "      <td>1935</td>\n",
       "      <td>安住蚊烟香 臭虫立毙药粉 世界第一名产 安住蚊烟香 蚊见逃慌慌 暑夜不用帐 包睡到天光 汉口...</td>\n",
       "      <td>安住蚊烟香,\"世界第一名产\"</td>\n",
       "    </tr>\n",
       "    <tr>\n",
       "      <th>496</th>\n",
       "      <td>11610</td>\n",
       "      <td>第威德润肠丸[DeWitt's]</td>\n",
       "      <td>药品</td>\n",
       "      <td>1934</td>\n",
       "      <td>眉色清秀 气色壮旺 此第威德润肠丸之功也 第威德润肠丸系以草药炼制纯粹和平十分安全功能清理肠...</td>\n",
       "      <td>第威德润肠丸,\"眉色清秀 气色壮旺\"</td>\n",
       "    </tr>\n",
       "    <tr>\n",
       "      <th>497</th>\n",
       "      <td>10256</td>\n",
       "      <td>如意膏[She-Ko]</td>\n",
       "      <td>药品</td>\n",
       "      <td>1934</td>\n",
       "      <td>汤火烫伤 立攃如意膏可免严重之后果 皮肤受伤当以灼烫最痛苦其又因此震激而致命者治疗灼烫止痛消...</td>\n",
       "      <td>如意膏,\"汤火烫伤 立攃如意膏可免严重之后果\"</td>\n",
       "    </tr>\n",
       "    <tr>\n",
       "      <th>498</th>\n",
       "      <td>9176</td>\n",
       "      <td>六零六药膏</td>\n",
       "      <td>药品</td>\n",
       "      <td>1923</td>\n",
       "      <td>清血解毒六零六 花柳梅毒瘰*疮疖癣疥**及筋骨酸痛四肢麻木半身疯*等症状虽异其发生之原理莫不...</td>\n",
       "      <td>六零六,\"清血解毒六零六\"</td>\n",
       "    </tr>\n",
       "    <tr>\n",
       "      <th>499</th>\n",
       "      <td>6411</td>\n",
       "      <td>三炮台烟[The Three Caftles Cigarettes]</td>\n",
       "      <td>烟草制品</td>\n",
       "      <td>1919</td>\n",
       "      <td>三炮台香烟,'到底是好 三炮台 好香烟 敬宾客 美观瞻 市中日日新牌见 到底不如老牌烟 名不虚传</td>\n",
       "      <td>三炮台香烟,\"到底是好 三炮台 名不虚传\"</td>\n",
       "    </tr>\n",
       "  </tbody>\n",
       "</table>\n",
       "<p>500 rows × 6 columns</p>\n",
       "</div>"
      ],
      "text/plain": [
       "     index                                              商品名称    商品类别   出版年  \\\n",
       "0     1596                                五华牌香烟[May Blossom]    烟草制品  1932   \n",
       "1     5627  韦廉士红色清导丸[Dr.Willams' Pink Pills For Pale People]      药品  1918   \n",
       "2    13532                   大炮台香烟[Three Castles Cigarettes]    烟草制品  1935   \n",
       "3     1133                                婴孩自己药片[Baby's Own]      药品  1930   \n",
       "4     3146                                     亚士北罗药片[Aspro]      药品  1933   \n",
       "..     ...                                               ...     ...   ...   \n",
       "495  14176                                             安住蚊烟香  化肥及杀虫剂  1935   \n",
       "496  11610                                  第威德润肠丸[DeWitt's]      药品  1934   \n",
       "497  10256                                       如意膏[She-Ko]      药品  1934   \n",
       "498   9176                                             六零六药膏      药品  1923   \n",
       "499   6411                三炮台烟[The Three Caftles Cigarettes]    烟草制品  1919   \n",
       "\n",
       "                                                  广告文本  \\\n",
       "0    兰勃脱白脱勒公司 五华牌香烟 佛及尼埃香烟  二十枝装每包售国币大洋二角 五十枝装每罐售国币...   \n",
       "1    讲求卫生为人生本性天理固然也 人生首贵逐日大便通畅有序为天然所当如此也如若大便不利大肠阻塞则...   \n",
       "2                                    香味馥郁,不让名花 另有三炮台出售   \n",
       "3    差肩儿女 秀慧康强 闽有佳音讃羡婴孩自己药片 每年此际小儿患肠胃病者甚多而尤以南方各地天气翳...   \n",
       "4    何以亚士北罗是妇女们的腻友？各国妇女力证亚士北罗药片是她们最需要的药物！为什么？她们的经验知...   \n",
       "..                                                 ...   \n",
       "495  安住蚊烟香 臭虫立毙药粉 世界第一名产 安住蚊烟香 蚊见逃慌慌 暑夜不用帐 包睡到天光 汉口...   \n",
       "496  眉色清秀 气色壮旺 此第威德润肠丸之功也 第威德润肠丸系以草药炼制纯粹和平十分安全功能清理肠...   \n",
       "497  汤火烫伤 立攃如意膏可免严重之后果 皮肤受伤当以灼烫最痛苦其又因此震激而致命者治疗灼烫止痛消...   \n",
       "498  清血解毒六零六 花柳梅毒瘰*疮疖癣疥**及筋骨酸痛四肢麻木半身疯*等症状虽异其发生之原理莫不...   \n",
       "499   三炮台香烟,'到底是好 三炮台 好香烟 敬宾客 美观瞻 市中日日新牌见 到底不如老牌烟 名不虚传   \n",
       "\n",
       "                                广告标题  \n",
       "0      五华牌香烟,\"兰勃脱白脱勒公司 五华牌香烟 佛及尼埃香烟\"  \n",
       "1          韦廉士红色清导丸:'讲求卫生为人生本性天理固然也'  \n",
       "2                  大炮台香烟,\"香味馥郁 不让名花\"  \n",
       "3    婴孩自己药片,\"差肩儿女 秀慧康强 闽有佳音赞美婴孩自己药片\"  \n",
       "4                     亚士北罗药片,\"妇女之腻友\"  \n",
       "..                               ...  \n",
       "495                   安住蚊烟香,\"世界第一名产\"  \n",
       "496               第威德润肠丸,\"眉色清秀 气色壮旺\"  \n",
       "497          如意膏,\"汤火烫伤 立攃如意膏可免严重之后果\"  \n",
       "498                    六零六,\"清血解毒六零六\"  \n",
       "499            三炮台香烟,\"到底是好 三炮台 名不虚传\"  \n",
       "\n",
       "[500 rows x 6 columns]"
      ]
     },
     "execution_count": 2,
     "metadata": {},
     "output_type": "execute_result"
    }
   ],
   "source": [
    "df = pd.read_excel(r'D:\\text analysis\\text_analysis_ad_sample.xlsx', index_col=0)\n",
    "df"
   ]
  },
  {
   "cell_type": "markdown",
   "id": "3068af72",
   "metadata": {},
   "source": [
    "# 分词"
   ]
  },
  {
   "cell_type": "code",
   "execution_count": 3,
   "id": "d420a4b2",
   "metadata": {},
   "outputs": [],
   "source": [
    "import jieba #中文分词"
   ]
  },
  {
   "cell_type": "code",
   "execution_count": 4,
   "id": "4b0e8f27",
   "metadata": {},
   "outputs": [],
   "source": [
    "## 定义文本清洗函数\n",
    "def clean_text(text):\n",
    "    words = jieba.lcut(text)\n",
    "    return ' '.join(words) #将分词结果用空格连接成字符串"
   ]
  },
  {
   "cell_type": "code",
   "execution_count": 5,
   "id": "7e71d622",
   "metadata": {},
   "outputs": [
    {
     "name": "stderr",
     "output_type": "stream",
     "text": [
      "Building prefix dict from the default dictionary ...\n",
      "Loading model from cache C:\\Users\\SHANGS~1\\AppData\\Local\\Temp\\jieba.cache\n",
      "Loading model cost 0.931 seconds.\n",
      "Prefix dict has been built successfully.\n"
     ]
    },
    {
     "data": {
      "text/plain": [
       "'兰勃 脱白 脱勒 公司   五华 牌 香烟   佛及 尼埃 香烟     二十 枝装 每包 售 国币 大洋 二角   五十 枝装 每罐 售 国币 大洋   五角'"
      ]
     },
     "execution_count": 5,
     "metadata": {},
     "output_type": "execute_result"
    }
   ],
   "source": [
    "test = df['广告文本'][0] #从DataFrame的\"广告文本\"列中提取第一个广告文本作为测试样本\n",
    "clean_text(test)"
   ]
  },
  {
   "cell_type": "code",
   "execution_count": 6,
   "id": "69d4b606",
   "metadata": {},
   "outputs": [
    {
     "data": {
      "text/html": [
       "<div>\n",
       "<style scoped>\n",
       "    .dataframe tbody tr th:only-of-type {\n",
       "        vertical-align: middle;\n",
       "    }\n",
       "\n",
       "    .dataframe tbody tr th {\n",
       "        vertical-align: top;\n",
       "    }\n",
       "\n",
       "    .dataframe thead th {\n",
       "        text-align: right;\n",
       "    }\n",
       "</style>\n",
       "<table border=\"1\" class=\"dataframe\">\n",
       "  <thead>\n",
       "    <tr style=\"text-align: right;\">\n",
       "      <th></th>\n",
       "      <th>index</th>\n",
       "      <th>商品名称</th>\n",
       "      <th>商品类别</th>\n",
       "      <th>出版年</th>\n",
       "      <th>广告文本</th>\n",
       "      <th>广告标题</th>\n",
       "      <th>广告文本分词</th>\n",
       "    </tr>\n",
       "  </thead>\n",
       "  <tbody>\n",
       "    <tr>\n",
       "      <th>0</th>\n",
       "      <td>1596</td>\n",
       "      <td>五华牌香烟[May Blossom]</td>\n",
       "      <td>烟草制品</td>\n",
       "      <td>1932</td>\n",
       "      <td>兰勃脱白脱勒公司 五华牌香烟 佛及尼埃香烟  二十枝装每包售国币大洋二角 五十枝装每罐售国币...</td>\n",
       "      <td>五华牌香烟,\"兰勃脱白脱勒公司 五华牌香烟 佛及尼埃香烟\"</td>\n",
       "      <td>兰勃 脱白 脱勒 公司   五华 牌 香烟   佛及 尼埃 香烟     二十 枝装 每包 ...</td>\n",
       "    </tr>\n",
       "    <tr>\n",
       "      <th>1</th>\n",
       "      <td>5627</td>\n",
       "      <td>韦廉士红色清导丸[Dr.Willams' Pink Pills For Pale People]</td>\n",
       "      <td>药品</td>\n",
       "      <td>1918</td>\n",
       "      <td>讲求卫生为人生本性天理固然也 人生首贵逐日大便通畅有序为天然所当如此也如若大便不利大肠阻塞则...</td>\n",
       "      <td>韦廉士红色清导丸:'讲求卫生为人生本性天理固然也'</td>\n",
       "      <td>讲求 卫生 为 人生 本性 天理 固然 也   人生 首贵 逐日 大便 通畅 有序 为 天然...</td>\n",
       "    </tr>\n",
       "    <tr>\n",
       "      <th>2</th>\n",
       "      <td>13532</td>\n",
       "      <td>大炮台香烟[Three Castles Cigarettes]</td>\n",
       "      <td>烟草制品</td>\n",
       "      <td>1935</td>\n",
       "      <td>香味馥郁,不让名花 另有三炮台出售</td>\n",
       "      <td>大炮台香烟,\"香味馥郁 不让名花\"</td>\n",
       "      <td>香味 馥郁 , 不让 名花   另 有 三 炮台 出售</td>\n",
       "    </tr>\n",
       "    <tr>\n",
       "      <th>3</th>\n",
       "      <td>1133</td>\n",
       "      <td>婴孩自己药片[Baby's Own]</td>\n",
       "      <td>药品</td>\n",
       "      <td>1930</td>\n",
       "      <td>差肩儿女 秀慧康强 闽有佳音讃羡婴孩自己药片 每年此际小儿患肠胃病者甚多而尤以南方各地天气翳...</td>\n",
       "      <td>婴孩自己药片,\"差肩儿女 秀慧康强 闽有佳音赞美婴孩自己药片\"</td>\n",
       "      <td>差肩 儿女   秀慧 康强   闽有 佳音 讃 羡 婴孩 自己 药片   每年 此际 小儿 ...</td>\n",
       "    </tr>\n",
       "    <tr>\n",
       "      <th>4</th>\n",
       "      <td>3146</td>\n",
       "      <td>亚士北罗药片[Aspro]</td>\n",
       "      <td>药品</td>\n",
       "      <td>1933</td>\n",
       "      <td>何以亚士北罗是妇女们的腻友？各国妇女力证亚士北罗药片是她们最需要的药物！为什么？她们的经验知...</td>\n",
       "      <td>亚士北罗药片,\"妇女之腻友\"</td>\n",
       "      <td>何以 亚士 北罗 是 妇女 们 的 腻友 ？ 各国 妇女 力证 亚士 北罗 药片 是 她们 ...</td>\n",
       "    </tr>\n",
       "    <tr>\n",
       "      <th>...</th>\n",
       "      <td>...</td>\n",
       "      <td>...</td>\n",
       "      <td>...</td>\n",
       "      <td>...</td>\n",
       "      <td>...</td>\n",
       "      <td>...</td>\n",
       "      <td>...</td>\n",
       "    </tr>\n",
       "    <tr>\n",
       "      <th>495</th>\n",
       "      <td>14176</td>\n",
       "      <td>安住蚊烟香</td>\n",
       "      <td>化肥及杀虫剂</td>\n",
       "      <td>1935</td>\n",
       "      <td>安住蚊烟香 臭虫立毙药粉 世界第一名产 安住蚊烟香 蚊见逃慌慌 暑夜不用帐 包睡到天光 汉口...</td>\n",
       "      <td>安住蚊烟香,\"世界第一名产\"</td>\n",
       "      <td>安住 蚊烟香   臭虫 立毙 药粉   世界 第一名 产   安住 蚊烟香   蚊见 逃 慌...</td>\n",
       "    </tr>\n",
       "    <tr>\n",
       "      <th>496</th>\n",
       "      <td>11610</td>\n",
       "      <td>第威德润肠丸[DeWitt's]</td>\n",
       "      <td>药品</td>\n",
       "      <td>1934</td>\n",
       "      <td>眉色清秀 气色壮旺 此第威德润肠丸之功也 第威德润肠丸系以草药炼制纯粹和平十分安全功能清理肠...</td>\n",
       "      <td>第威德润肠丸,\"眉色清秀 气色壮旺\"</td>\n",
       "      <td>眉色 清秀   气色 壮旺   此 第 威德 润肠 丸 之功 也   第 威德 润肠 丸系 ...</td>\n",
       "    </tr>\n",
       "    <tr>\n",
       "      <th>497</th>\n",
       "      <td>10256</td>\n",
       "      <td>如意膏[She-Ko]</td>\n",
       "      <td>药品</td>\n",
       "      <td>1934</td>\n",
       "      <td>汤火烫伤 立攃如意膏可免严重之后果 皮肤受伤当以灼烫最痛苦其又因此震激而致命者治疗灼烫止痛消...</td>\n",
       "      <td>如意膏,\"汤火烫伤 立攃如意膏可免严重之后果\"</td>\n",
       "      <td>汤火 烫伤   立 攃 如意 膏 可免 严重 之 后果   皮肤 受伤 当以 灼烫 最 痛苦...</td>\n",
       "    </tr>\n",
       "    <tr>\n",
       "      <th>498</th>\n",
       "      <td>9176</td>\n",
       "      <td>六零六药膏</td>\n",
       "      <td>药品</td>\n",
       "      <td>1923</td>\n",
       "      <td>清血解毒六零六 花柳梅毒瘰*疮疖癣疥**及筋骨酸痛四肢麻木半身疯*等症状虽异其发生之原理莫不...</td>\n",
       "      <td>六零六,\"清血解毒六零六\"</td>\n",
       "      <td>清血 解毒 六零 六   花柳 梅毒 瘰 * 疮 疖 癣疥 * * 及 筋骨 酸痛 四肢 麻...</td>\n",
       "    </tr>\n",
       "    <tr>\n",
       "      <th>499</th>\n",
       "      <td>6411</td>\n",
       "      <td>三炮台烟[The Three Caftles Cigarettes]</td>\n",
       "      <td>烟草制品</td>\n",
       "      <td>1919</td>\n",
       "      <td>三炮台香烟,'到底是好 三炮台 好香烟 敬宾客 美观瞻 市中日日新牌见 到底不如老牌烟 名不虚传</td>\n",
       "      <td>三炮台香烟,\"到底是好 三炮台 名不虚传\"</td>\n",
       "      <td>三 炮台 香烟 , ' 到底 是 好   三 炮台   好 香烟   敬 宾客   美 观瞻...</td>\n",
       "    </tr>\n",
       "  </tbody>\n",
       "</table>\n",
       "<p>500 rows × 7 columns</p>\n",
       "</div>"
      ],
      "text/plain": [
       "     index                                              商品名称    商品类别   出版年  \\\n",
       "0     1596                                五华牌香烟[May Blossom]    烟草制品  1932   \n",
       "1     5627  韦廉士红色清导丸[Dr.Willams' Pink Pills For Pale People]      药品  1918   \n",
       "2    13532                   大炮台香烟[Three Castles Cigarettes]    烟草制品  1935   \n",
       "3     1133                                婴孩自己药片[Baby's Own]      药品  1930   \n",
       "4     3146                                     亚士北罗药片[Aspro]      药品  1933   \n",
       "..     ...                                               ...     ...   ...   \n",
       "495  14176                                             安住蚊烟香  化肥及杀虫剂  1935   \n",
       "496  11610                                  第威德润肠丸[DeWitt's]      药品  1934   \n",
       "497  10256                                       如意膏[She-Ko]      药品  1934   \n",
       "498   9176                                             六零六药膏      药品  1923   \n",
       "499   6411                三炮台烟[The Three Caftles Cigarettes]    烟草制品  1919   \n",
       "\n",
       "                                                  广告文本  \\\n",
       "0    兰勃脱白脱勒公司 五华牌香烟 佛及尼埃香烟  二十枝装每包售国币大洋二角 五十枝装每罐售国币...   \n",
       "1    讲求卫生为人生本性天理固然也 人生首贵逐日大便通畅有序为天然所当如此也如若大便不利大肠阻塞则...   \n",
       "2                                    香味馥郁,不让名花 另有三炮台出售   \n",
       "3    差肩儿女 秀慧康强 闽有佳音讃羡婴孩自己药片 每年此际小儿患肠胃病者甚多而尤以南方各地天气翳...   \n",
       "4    何以亚士北罗是妇女们的腻友？各国妇女力证亚士北罗药片是她们最需要的药物！为什么？她们的经验知...   \n",
       "..                                                 ...   \n",
       "495  安住蚊烟香 臭虫立毙药粉 世界第一名产 安住蚊烟香 蚊见逃慌慌 暑夜不用帐 包睡到天光 汉口...   \n",
       "496  眉色清秀 气色壮旺 此第威德润肠丸之功也 第威德润肠丸系以草药炼制纯粹和平十分安全功能清理肠...   \n",
       "497  汤火烫伤 立攃如意膏可免严重之后果 皮肤受伤当以灼烫最痛苦其又因此震激而致命者治疗灼烫止痛消...   \n",
       "498  清血解毒六零六 花柳梅毒瘰*疮疖癣疥**及筋骨酸痛四肢麻木半身疯*等症状虽异其发生之原理莫不...   \n",
       "499   三炮台香烟,'到底是好 三炮台 好香烟 敬宾客 美观瞻 市中日日新牌见 到底不如老牌烟 名不虚传   \n",
       "\n",
       "                                广告标题  \\\n",
       "0      五华牌香烟,\"兰勃脱白脱勒公司 五华牌香烟 佛及尼埃香烟\"   \n",
       "1          韦廉士红色清导丸:'讲求卫生为人生本性天理固然也'   \n",
       "2                  大炮台香烟,\"香味馥郁 不让名花\"   \n",
       "3    婴孩自己药片,\"差肩儿女 秀慧康强 闽有佳音赞美婴孩自己药片\"   \n",
       "4                     亚士北罗药片,\"妇女之腻友\"   \n",
       "..                               ...   \n",
       "495                   安住蚊烟香,\"世界第一名产\"   \n",
       "496               第威德润肠丸,\"眉色清秀 气色壮旺\"   \n",
       "497          如意膏,\"汤火烫伤 立攃如意膏可免严重之后果\"   \n",
       "498                    六零六,\"清血解毒六零六\"   \n",
       "499            三炮台香烟,\"到底是好 三炮台 名不虚传\"   \n",
       "\n",
       "                                                广告文本分词  \n",
       "0    兰勃 脱白 脱勒 公司   五华 牌 香烟   佛及 尼埃 香烟     二十 枝装 每包 ...  \n",
       "1    讲求 卫生 为 人生 本性 天理 固然 也   人生 首贵 逐日 大便 通畅 有序 为 天然...  \n",
       "2                          香味 馥郁 , 不让 名花   另 有 三 炮台 出售  \n",
       "3    差肩 儿女   秀慧 康强   闽有 佳音 讃 羡 婴孩 自己 药片   每年 此际 小儿 ...  \n",
       "4    何以 亚士 北罗 是 妇女 们 的 腻友 ？ 各国 妇女 力证 亚士 北罗 药片 是 她们 ...  \n",
       "..                                                 ...  \n",
       "495  安住 蚊烟香   臭虫 立毙 药粉   世界 第一名 产   安住 蚊烟香   蚊见 逃 慌...  \n",
       "496  眉色 清秀   气色 壮旺   此 第 威德 润肠 丸 之功 也   第 威德 润肠 丸系 ...  \n",
       "497  汤火 烫伤   立 攃 如意 膏 可免 严重 之 后果   皮肤 受伤 当以 灼烫 最 痛苦...  \n",
       "498  清血 解毒 六零 六   花柳 梅毒 瘰 * 疮 疖 癣疥 * * 及 筋骨 酸痛 四肢 麻...  \n",
       "499  三 炮台 香烟 , ' 到底 是 好   三 炮台   好 香烟   敬 宾客   美 观瞻...  \n",
       "\n",
       "[500 rows x 7 columns]"
      ]
     },
     "execution_count": 6,
     "metadata": {},
     "output_type": "execute_result"
    }
   ],
   "source": [
    "df['广告文本分词'] = df['广告文本'].apply(clean_text)\n",
    "df"
   ]
  },
  {
   "cell_type": "markdown",
   "id": "f29805f8",
   "metadata": {},
   "source": [
    "# 语料库准备"
   ]
  },
  {
   "cell_type": "code",
   "execution_count": 7,
   "id": "b47a5bf8",
   "metadata": {},
   "outputs": [
    {
     "data": {
      "text/plain": [
       "[['human', 'interface', 'computer'],\n",
       " ['survey', 'user', 'computer', 'system', 'response', 'time'],\n",
       " ['eps', 'user', 'interface', 'system'],\n",
       " ['system', 'human', 'system', 'eps'],\n",
       " ['user', 'response', 'time'],\n",
       " ['trees'],\n",
       " ['graph', 'trees'],\n",
       " ['graph', 'minors', 'trees'],\n",
       " ['graph', 'minors', 'survey']]"
      ]
     },
     "execution_count": 7,
     "metadata": {},
     "output_type": "execute_result"
    }
   ],
   "source": [
    "from gensim.test.utils import common_texts \n",
    "common_texts"
   ]
  },
  {
   "cell_type": "code",
   "execution_count": 8,
   "id": "2c237a00",
   "metadata": {
    "scrolled": true
   },
   "outputs": [
    {
     "name": "stdout",
     "output_type": "stream",
     "text": [
      "['兰勃', '脱白', '脱勒', '公司', '五华', '牌', '香烟', '佛及', '尼埃', '香烟', '二十', '枝装', '每包', '售', '国币', '大洋', '二角', '五十', '枝装', '每罐', '售', '国币', '大洋', '五角']\n",
      "['讲求', '卫生', '为', '人生', '本性', '天理', '固然', '也', '人生', '首贵', '逐日', '大便', '通畅', '有序', '为', '天然', '所当', '如此', '也', '如若', '大便', '不利', '大', '肠阻塞', '则', '胃失', '消化', '疾病', '头痛', '肝火', '上升', '胆汁', '不', '调', '口气', '积浊', '舌现', '黄苔', '诸恙', '接踵', '而', '起', '矣', '凡', '此皆须', '服用', '韦廉士', '大', '医生', '红色', '清导丸', '以利', '大便', '俾得', '体质', '强健', '百病', '不侵', '也况', '此丸', '之', '功力', '天然', '平和', '不尚', '霸烈', '广东省', '城', '医生', '学', '研究会', '*', '生', '先生', '来示', '云弟', '患大', '便秘', '结之症', '一月', '有余', '困苦', '万状', '难以', '言喻', '服用', '韦廉士', '红色', '清导丸', '数粒', '大便', '畅达', '于是', '常为', '服用', '身体', '爽健为', '半生', '以来', '所', '未有', '也', '如', '尊处', '无从', '购买', '韦廉士', '红色', '清导丸', '祈即', '邮票', '大洋', '六角', '至', '上海', '四川', '路', '九十六', '号', '韦廉士', '医生', '药局', '原班', '邮奉', '一瓶', '可', '也']\n",
      "['香味', '馥郁', ',', '不让', '名花', '另', '有', '三', '炮台', '出售']\n",
      "['差肩', '儿女', '秀慧', '康强', '闽有', '佳音', '讃', '羡', '婴孩', '自己', '药片', '每年', '此际', '小儿', '患', '肠胃病', '者', '甚', '多', '而', '尤以', '南方', '各地', '天气', '翳', '热', '*', '颣', '充斥', '之区', '为', '最', '然而', '刘君', '强', '逹', '（', '福州', '南台', '梅亭', '山馆', '）', '家有', '差肩', '儿女', '而', '均', '秀慧康', '强者', '果何法', '以致', '之乎', '刘君云', '鄙人', '对于', '贵局', '所出', '之', '婴孩', '自己', '药片', '甚佩其', '功效', '之', '霊', '验', '药性', '之', '和平', '舍下', '儿女', '常', '因', '食物', '不节', '发生', '消化不良', '肌热', '烦燥', '肚疼', '泻泻', '等', '症', '从前', '未知', '婴孩', '药片', '之功', '时感', '求医', '之苦', '今则', '凡遇', '上述', '诸症', '投', '以此', '片均', '得速', '愈', '是', '真', '有', '儿女', '之', '家庭', '不可', '不备', '之', '圣药', '也', '婴孩', '自己', '药片', '系', '韦廉士', '之', '儿科', '専', '药', '统治', '小儿', '食积', '腹痛', '发热', '便秘', '呕吐', '泄泻', '伤风', '痰厥', '出牙', '蛔虫', '等', '症', '逺', '东', '总', '发行', '上海', '江西', '路', '六十', '号', '韦廉士', '医生', '药局', '各埠', '药房', '均', '有', '代售']\n",
      "['何以', '亚士', '北罗', '是', '妇女', '们', '的', '腻友', '？', '各国', '妇女', '力证', '亚士', '北罗', '药片', '是', '她们', '最', '需要', '的', '药物', '！', '为什么', '？', '她们', '的', '经验', '知到', '亚士', '北罗', '药片', '功能', '最', '宏大', ',', '安全', ',', '可靠', ',', '物质', '纯净', ',', '不含', '别种', '危险性', '药料', ',', '故', '妇女', '们', '最', '信用', '的', '只有', '亚士', '北罗', '药片', '！', '亚士', '北罗', '药片', '的', '功用', ':', '五分钟', '内立止', '各种', '痛症', '伤风感冒', '失眠', '一服', '即', '愈', '何以', '妇女', '们', '对于', '亚士', '北罗', '比', '丈夫', '和', '爱人', '更', '爱慕', '？', '婚前', '！', '未婚', '女子', '对', '爱人', '的', '爱情', '亲热', '得', '很', '利害', '但是', '不', '识趣', '的', '毛病', '侵害', '她', '更为', '利害', '在', '他', '月经', '来', '的', '时期', '最易', '使', '他', '感觉', '到', '最', '不', '安适', '的', '是', '头痛', '和', '肚痛', '两种', '毛病', '虽是', '他', '最', '亲爱', '的', '爱人', '也', '没法', '使', '他', '安适', '惟有', '亚士', '北罗', '药片', '可以', '立止', '他', '的', '头痛', '和', '肚痛', '回复', '他', '的', '安适', '和', '快乐', '亚士', '北罗', '药片', '才', '是', '他们', '最', '亲爱', '的', '腻友', '比', '爱人', '更', '爱慕', '故此', '妇女', '们', '对亚士', '北罗', '药片', '万分', '的', '信任', '和', '欢迎', '婚后', '！', '女子', '结了婚', '她', '的', '唯一', '责任', '就是', '养育', '儿女', '照料', '丈夫', '想尽', '两种', '责任', '她', '的', '唯一', '信赖', '就是', '亚士', '北罗', '药片', '遇着', '丈夫', '和', '儿女', '发生', '疾病', '的', '时候', '如', '头痛', '肚痛', '感冒', '伤风', '风湿', '发热', '使', '她', '的', '芳心', '最感', '不安', '用', '了', '亚士', '北罗', '药片', '丈夫', '和', '儿女', '也', '得到', '平安', '可以', '使', '她', '安乐', '无忧', '因为', '丈夫', '出外', '工作', '最易', '伤风感冒', '工作', '过劳', '神经病', '或', '头痛', '儿女', '最易', '伤风感冒', '发热', '牙痛', '肚痛', '亚士', '北罗', '药片', '可立止', '葛', '总', '病症', '退热', '愈风', '疾故', '婚后', '妇女', '们', '视亚士', '北罗', '药片', '比', '丈夫', '和', '儿女', '更', '重要', '备有', '亚士', '北罗', '药片', '便', '可', '使', '全家', '平安', '一', '五分钟', '至', '十分钟', '立止', '剧烈', '头痛', '二', '能', '使', '失眠', '者', '得', '安乐', '睡眠', '三', '能', '驱除', '各种', '痛症', '五', '能治', '牙痛', '驱除', '牙患', '六', '提神', '却病', '助消化', '七', '立止', '各种', '痛症', '无害', '于', '此', '八', '治', '腹部', '肠', '刺痛', '九', '以热', '柠檬汁', '溶和亚士', '北罗', '药片', '两三片', '饮服', '立可', '驱除', '伤风感冒', '十', '五分钟', '至', '十分钟', '立即', '退热', '十一', '无论', '在', '舟车', '家庭', '随时随地', '可以', '服用', '十二', '专治', '妇女', '忧虑', '过步', '十三', '能', '醒酒', '提神', '十四', '善治', '大肠', '热及', '退', '各种', '热症', '十五', '用亚士', '北罗', '药片', '治喉', '痛', '是', '最', '安全', '之', '法', '小盒', '三毫', '中盒', '六毫', '大盒', '一元', '半', '广州', '沙面', '天祥', '洋行', '总经理', '各大', '药房', '均', '有', '代售', 'ASPRO']\n"
     ]
    }
   ],
   "source": [
    "corpus = df['广告文本分词'].apply(lambda x: x.split()).tolist() #切分词语 corpus是一个二维列表\n",
    "for document in corpus[:5]:\n",
    "    print(document)"
   ]
  },
  {
   "cell_type": "markdown",
   "id": "e92b4748",
   "metadata": {},
   "source": [
    "# 自己训练词嵌入模型"
   ]
  },
  {
   "cell_type": "code",
   "execution_count": 9,
   "id": "61bc8b43",
   "metadata": {},
   "outputs": [],
   "source": [
    "from gensim.models import Word2Vec #训练 Word2Vec 模型\n",
    "\n",
    "# 训练词嵌入模型\n",
    "model = Word2Vec(\n",
    "    corpus, #训练语料\n",
    "    window = 5, #训练算法考虑的当前词语与预测词语在一个句子中的最大距离（窗口大小）\n",
    "    vector_size = 100, #自定义训练向量维度\n",
    "    min_count = 1, #忽略所有总频数低于这个值的词语\n",
    "    epochs = 10\n",
    ")\n",
    "\n",
    "# 保存训练好的模型\n",
    "model.save('Word2vec_ad.model')"
   ]
  },
  {
   "cell_type": "markdown",
   "id": "3d738ac6",
   "metadata": {},
   "source": [
    "# 查看词向量"
   ]
  },
  {
   "cell_type": "code",
   "execution_count": 10,
   "id": "a070e4fb",
   "metadata": {
    "scrolled": true
   },
   "outputs": [
    {
     "name": "stdout",
     "output_type": "stream",
     "text": [
      "之:[-0.71622866  0.94553006  0.41706413 -0.15981516 -0.28561056 -2.3145022\n",
      "  0.72768205  2.8546107  -1.1968955  -1.2183124  -0.6314749  -2.1303031\n",
      " -0.30153427  1.296822    0.5786876  -0.46933404  0.5222025  -0.52624255\n",
      " -0.28718674 -2.2202294   1.1114234  -0.04218505  0.6270409  -0.8869502\n",
      " -0.03829926  0.35907748 -0.39646217 -0.731352   -1.1066355  -0.14788035\n",
      "  1.1056693   0.5858658   0.45197034 -0.7482825  -0.7052681   1.7326766\n",
      "  0.5597484  -0.9223417  -1.1066488  -2.2001061   0.08490185 -0.7352807\n",
      " -0.09340607 -0.91209614  1.1952176  -0.6602179  -1.5174669   0.44408122\n",
      "  1.2641724   0.8124059   0.40383023 -0.5500312  -0.7141226  -0.12112767\n",
      " -0.527826    1.0372448   0.22992653  0.18007402 -0.5646815   0.4727125\n",
      "  0.2735493   0.41729537 -0.63944346  0.70555985 -0.7400658   1.3932269\n",
      "  0.06818733  0.8951842  -1.3823625   1.8495718  -0.783998    1.1613123\n",
      "  0.73941827 -0.0783822   1.80092     0.33145306  0.11580631 -0.31088957\n",
      " -0.4379527   0.4622988  -0.72412145  0.30824193 -1.1239587   1.7899071\n",
      "  0.15005976  0.22976066  0.41529676  1.4455703   1.7101604   0.6035594\n",
      "  1.4082799   0.5614649   0.32462937  0.204903    1.8039317   1.6546181\n",
      "  0.5691501  -1.9432685   0.54963946  0.7429069 ]\n",
      "*:[-1.84483802e+00  1.15190268e+00  1.16400898e+00  3.82836789e-01\n",
      "  6.45859361e-01 -3.26793194e+00  6.49684489e-01  3.38170600e+00\n",
      " -1.39913428e+00 -1.67190862e+00 -9.74995315e-01 -3.17867374e+00\n",
      " -7.22119927e-01  1.81276071e+00  7.96103418e-01  4.19038236e-01\n",
      "  1.16629386e+00  2.26879060e-01 -9.33367729e-01 -2.22390962e+00\n",
      "  1.72796094e+00 -3.50419760e-01  1.70094717e+00 -2.51401258e+00\n",
      "  8.05294096e-01  9.00009573e-01 -9.89514410e-01 -1.06594995e-01\n",
      " -9.37752128e-01  3.57039034e-01  1.94526863e+00  1.21507987e-01\n",
      "  1.50553286e-01 -8.12071383e-01 -1.45450518e-01  1.65297902e+00\n",
      "  1.01914024e+00 -3.48399073e-01  1.18463688e-01 -1.21954572e+00\n",
      "  1.24022627e+00 -1.58166647e+00 -1.01805913e+00 -1.20790589e+00\n",
      "  6.77542806e-01  3.16020012e-01 -8.92527699e-01  2.18663394e-01\n",
      "  1.07206345e+00  8.12802434e-01  9.30898786e-01 -1.68383300e+00\n",
      " -5.67653298e-01  4.63320524e-01 -5.78523695e-01  1.93292630e+00\n",
      "  1.18630791e+00  1.09627354e+00 -6.45129859e-01  1.48966777e+00\n",
      " -4.26051766e-02  5.26689947e-01 -1.10151088e+00 -3.11508542e-03\n",
      " -1.27515435e-01  1.67598176e+00  7.05114126e-01  2.89354116e-01\n",
      " -3.63975018e-01  2.39071345e+00 -1.31593716e+00  2.14386493e-01\n",
      "  1.18001270e+00 -7.30906203e-02  1.41946065e+00 -3.87532920e-01\n",
      " -9.58814681e-01 -7.34301567e-01 -1.97170563e-02  5.01291633e-01\n",
      " -1.60402989e+00  9.36783373e-01 -5.82373738e-01  1.51602006e+00\n",
      "  9.15638581e-02  2.06637859e-01  4.46335822e-01  3.94817710e-01\n",
      "  1.84392011e+00 -6.85230345e-02  2.06077147e+00 -1.38332978e-01\n",
      "  4.79469508e-01 -7.53316283e-01  1.38461292e+00  1.67803168e+00\n",
      "  1.11658895e+00 -2.39885378e+00 -3.76651376e-01  1.35302567e+00]\n",
      "有:[ 0.0900749   1.7520862   0.19748348  1.0749637  -0.05497586 -0.8656004\n",
      "  0.95745355  1.5058159  -1.1139404  -0.46258205  0.37199733 -1.8050904\n",
      "  0.6827593  -0.06371047  0.3824821  -1.629146    1.8993868  -1.9300919\n",
      " -0.30440837 -2.280686    0.79145443  0.17521355  0.41831908 -0.5932677\n",
      " -0.98519075 -0.65714884 -1.430708   -0.28343084 -1.2728544  -0.62254906\n",
      "  1.2968419  -0.04678384  0.03847301 -1.7878242  -1.4941313  -0.23437452\n",
      "  0.11845303 -0.15464139 -1.396476   -2.0463972  -1.0362976  -1.0542194\n",
      "  0.5673188  -0.29961637  0.9174014  -0.4287363  -0.47026685 -1.062286\n",
      "  0.50680107  1.8636146  -0.38361207 -0.5074907  -0.5605032  -0.3980412\n",
      " -1.4112337   0.20204948  0.7671345  -0.43189305 -1.8651896  -0.08653299\n",
      "  0.76486886  0.2611695   0.2803982   0.9946524  -1.7970016   1.7194569\n",
      " -0.3262109   1.6780236  -1.350454    0.9612975   0.20970032  1.5695838\n",
      "  1.4933612  -0.2298285   1.746582   -0.13714245  0.78758556  0.9244946\n",
      " -0.04645742 -0.2432471  -1.0437473  -0.60250217 -1.7688165   1.6124655\n",
      "  0.40272745 -0.8188457   0.2027761   1.5091522   2.5302854   0.2618942\n",
      "  1.1720725   0.566796    0.47104362  0.5496641   2.3265889   1.6373352\n",
      "  0.02309611 -0.65217704 -0.92477006 -0.55063266]\n",
      "也:[-0.455099    0.82313794  0.20742656  0.23693365 -0.4111653  -1.7126724\n",
      "  0.5894562   2.5750537  -1.0036272  -1.1070858  -0.60371065 -1.4023728\n",
      " -0.1990101   0.81620777  0.42468244 -1.1368371   0.42233303 -1.2107106\n",
      "  0.06716342 -1.8124821   0.68126297  0.11764586  0.5951451  -0.24475467\n",
      " -0.25417462  0.0683147  -0.6651648  -0.48625758 -1.2212821  -0.03536328\n",
      "  1.2836885   0.05203429  0.2741696  -1.1760291  -0.6638548   1.2672211\n",
      "  0.20609315 -0.8079035  -0.8261243  -2.300193   -0.3377982  -0.73932445\n",
      " -0.31406584 -0.3870863   1.0263208  -1.0202284  -1.041816    0.15394281\n",
      "  1.1295061   0.906321    0.37794647 -0.6382096  -0.594774   -0.25817814\n",
      " -0.4214474   0.77098423  0.20612079 -0.1400774  -0.90778697  0.03366569\n",
      "  0.1855604   0.4315565  -0.08180875  0.5010884  -1.2731127   1.3437508\n",
      "  0.06736752  1.0518913  -1.3980829   1.363959   -0.24582382  1.3733405\n",
      "  0.8812195  -0.07796664  1.8280712   0.534555    0.03033203 -0.00293062\n",
      " -0.5527426   0.23931828 -0.84402233 -0.1772054  -1.1887583   1.6556544\n",
      " -0.17820065 -0.15150946  0.4785895   1.2980721   1.2028676   0.71160984\n",
      "  1.4367009   0.5023873   0.27952766  0.44428998  1.9054474   1.3844397\n",
      "  0.28530157 -1.111263    0.14803645  0.20451273]\n",
      "韦廉士:[-0.9257627   1.4149307  -0.08331687  1.0467316  -0.6626686  -0.49241564\n",
      "  0.12425056  2.685201   -0.35551137 -0.3719811  -1.1248909  -0.5203609\n",
      "  0.1290339  -0.5721267  -0.16357459 -2.9136622  -0.02437139 -2.9257593\n",
      "  0.45093766 -1.5056325  -0.3659685   0.36091995  0.4283419   1.5305265\n",
      " -0.8339501  -0.2988574  -1.5595711  -0.34997392 -1.9564992   0.1038547\n",
      "  1.5429075  -1.096399    0.1385907  -2.0525587  -0.64611846  1.0600799\n",
      " -0.16537353 -0.97245306 -0.16211724 -3.1151772  -0.78677446 -0.707299\n",
      " -1.4627514   0.39958584  0.4249437  -2.8179026  -0.06490906 -0.18315434\n",
      "  0.8539245   1.1424378   0.7230285  -1.3711258  -0.01825337  0.10908539\n",
      " -0.5469226   0.1762131   0.58515817 -1.0557418  -1.7800266  -0.72228676\n",
      "  0.42262158  0.23417008  0.8345314  -0.2879147  -2.1853278   1.0974371\n",
      "  0.06710484  1.473149   -1.6421543   0.7275156   0.57718694  2.6133695\n",
      "  1.0324354  -0.04450152  2.1984115   1.4220035  -0.43575397  0.6160198\n",
      " -0.47065303 -0.17766029 -1.276956   -1.1657817  -1.2890488   1.5068685\n",
      " -1.7340354  -0.9878699   0.53505474  1.2131991  -0.39384854  1.1258246\n",
      "  2.143873    0.66040534 -0.02001259  1.0474902   3.1456327   0.83166707\n",
      " -0.27132648  0.36574537 -0.7783788  -0.64418244]\n"
     ]
    }
   ],
   "source": [
    "word_list = model.wv.index_to_key #获取词汇表\n",
    "word_vectors = model.wv[word_list] #获取词向量\n",
    "\n",
    "# 打印前5个词及其向量表示\n",
    "for word, vector in list(zip(word_list, word_vectors))[:5]:\n",
    "    print(f'{word}:{vector}')"
   ]
  },
  {
   "cell_type": "markdown",
   "id": "e298b93b",
   "metadata": {},
   "source": [
    "# 计算词语相似度"
   ]
  },
  {
   "cell_type": "code",
   "execution_count": 11,
   "id": "015f66da",
   "metadata": {},
   "outputs": [
    {
     "name": "stdout",
     "output_type": "stream",
     "text": [
      "0.6988996\n",
      "0.6684511\n",
      "0.63111925\n",
      "0.995462\n",
      "0.9914949\n",
      "0.995648\n"
     ]
    }
   ],
   "source": [
    "## 使用余弦相似度 wv 度量词对之间的语义接近度\n",
    "## 余弦相似度的取值介于[-1，1]之间，-1表示语义完全相反，1表示语义完全相同，0表示毫无关系\n",
    "print(model.wv.similarity('医生','疼痛'))\n",
    "print(model.wv.similarity('医生','神经'))\n",
    "print(model.wv.similarity('医生','伤风'))\n",
    "print(model.wv.similarity('疼痛','神经'))\n",
    "print(model.wv.similarity('伤风','疼痛'))\n",
    "print(model.wv.similarity('神经','伤风'))"
   ]
  },
  {
   "cell_type": "code",
   "execution_count": 12,
   "id": "796fa5c2",
   "metadata": {
    "scrolled": true
   },
   "outputs": [
    {
     "data": {
      "text/plain": [
       "[('皮肤', 0.9985314607620239),\n",
       " ('之美', 0.998124361038208),\n",
       " ('又', 0.9976474642753601),\n",
       " ('能', 0.9976370930671692),\n",
       " ('肾亏', 0.997579038143158),\n",
       " ('发热', 0.9974163770675659),\n",
       " ('腹痛', 0.9964841604232788),\n",
       " ('蓝色', 0.9964763522148132),\n",
       " ('一切', 0.9963300824165344),\n",
       " ('点', 0.9963211417198181)]"
      ]
     },
     "execution_count": 12,
     "metadata": {},
     "output_type": "execute_result"
    }
   ],
   "source": [
    "model.wv.most_similar('卫生') #返回与“卫生”最相似的词列表（包括相似度分数）"
   ]
  },
  {
   "cell_type": "markdown",
   "id": "30682828",
   "metadata": {},
   "source": [
    "# 可视化"
   ]
  },
  {
   "cell_type": "code",
   "execution_count": 13,
   "id": "72d06631",
   "metadata": {},
   "outputs": [],
   "source": [
    "import matplotlib.pyplot as plt #用于绘制二维图形\n",
    "plt.rcParams['font.sans-serif'] = ['SimHei']\n",
    "plt.rcParams['axes.unicode_minus'] = False\n",
    "\n",
    "words = ['医生','疼痛','神经','伤风']\n",
    "vectors = [model.wv[word] for word in words]"
   ]
  },
  {
   "cell_type": "code",
   "execution_count": 14,
   "id": "8259cf80",
   "metadata": {},
   "outputs": [],
   "source": [
    "## 使用PCA进行降维\n",
    "from sklearn.decomposition import PCA #语义空间降维，用于展示词语在二维空间的相对位置\n",
    "pca = PCA(n_components = 2)\n",
    "pca_result = pca.fit_transform(vectors)"
   ]
  },
  {
   "cell_type": "code",
   "execution_count": 15,
   "id": "8f26432a",
   "metadata": {
    "scrolled": true
   },
   "outputs": [
    {
     "data": {
      "image/png": "[encoded data removed]",
      "text/plain": [
       "<Figure size 640x480 with 1 Axes>"
      ]
     },
     "metadata": {},
     "output_type": "display_data"
    }
   ],
   "source": [
    "## 绘制四个词语在二维空间的相对位置\n",
    "plt.figure()\n",
    "\n",
    "## 取PCA降维结果中所有行的第一列和第二列数据绘制散点图，设置点的大小为50\n",
    "plt.scatter(pca_result[:,0],pca_result[:,1],s = 50)\n",
    "\n",
    "for i, word in enumerate(words):\n",
    "    plt.annotate(word,(pca_result[i,0],pca_result[i,1]),fontsize = 20)\n",
    "    \n",
    "plt.xlabel('pca维度1',fontsize = 20)\n",
    "plt.ylabel('pca维度2',fontsize = 20)\n",
    "plt.title('二维语义空间中词语的分布',fontsize = 20)\n",
    "plt.grid(True)\n",
    "plt.show()"
   ]
  },
  {
   "cell_type": "markdown",
   "id": "a1c675c7",
   "metadata": {},
   "source": [
    "# 损失计算"
   ]
  },
  {
   "cell_type": "code",
   "execution_count": 16,
   "id": "93b0201a",
   "metadata": {},
   "outputs": [],
   "source": [
    "from gensim.models import Word2Vec\n",
    "import matplotlib.pyplot as plt\n",
    "\n",
    "# 初始化模型（注意：不要设置 epochs，这里我们手动控制）\n",
    "model = Word2Vec(\n",
    "    vector_size=100,\n",
    "    window=5,\n",
    "    min_count=1,\n",
    "    sg=1,\n",
    "    compute_loss=True\n",
    ")\n",
    "\n",
    "# 构建词汇表\n",
    "model.build_vocab(corpus)\n",
    "\n",
    "# 手动逐轮训练并记录损失\n",
    "losses = []\n",
    "previous_loss = 0\n",
    "epochs = 10\n",
    "\n",
    "for epoch in range(epochs):\n",
    "    model.train(\n",
    "        corpus,\n",
    "        total_examples=model.corpus_count,\n",
    "        epochs=1,\n",
    "        compute_loss=True\n",
    "    )\n",
    "    current_loss = model.get_latest_training_loss()\n",
    "    epoch_loss = current_loss - previous_loss\n",
    "    losses.append(epoch_loss)\n",
    "    previous_loss = current_loss"
   ]
  },
  {
   "cell_type": "code",
   "execution_count": 17,
   "id": "fe5baa40",
   "metadata": {},
   "outputs": [
    {
     "data": {
      "image/png": "[encoded data removed]",
      "text/plain": [
       "<Figure size 1000x600 with 1 Axes>"
      ]
     },
     "metadata": {},
     "output_type": "display_data"
    },
    {
     "name": "stdout",
     "output_type": "stream",
     "text": [
      "\n",
      "最终模型信息：\n",
      "词汇表大小：9942\n"
     ]
    }
   ],
   "source": [
    "## 绘制损失曲线\n",
    "plt.figure(figsize=(10, 6))\n",
    "plt.plot(range(1, epochs + 1), losses, 'o-', color='blue')\n",
    "plt.title('Word2Vec训练损失曲线')\n",
    "plt.xlabel('训练轮数(Epoch)')\n",
    "plt.ylabel('损失值(Loss)')\n",
    "plt.grid(True)\n",
    "plt.xticks(range(1, epochs + 1))\n",
    "plt.tight_layout()\n",
    "plt.show()\n",
    "\n",
    "## 打印最终模型的一些信息\n",
    "print(\"\\n最终模型信息：\")\n",
    "print(f\"词汇表大小：{len(model.wv.key_to_index)}\")"
   ]
  }
 ],
 "metadata": {
  "kernelspec": {
   "display_name": "Python 3 (ipykernel)",
   "language": "python",
   "name": "python3"
  },
  "language_info": {
   "codemirror_mode": {
    "name": "ipython",
    "version": 3
   },
   "file_extension": ".py",
   "mimetype": "text/x-python",
   "name": "python",
   "nbconvert_exporter": "python",
   "pygments_lexer": "ipython3",
   "version": "3.9.13"
  }
 },
 "nbformat": 4,
 "nbformat_minor": 5
}
